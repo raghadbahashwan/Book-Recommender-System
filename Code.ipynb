{
  "metadata": {
    "kernelspec": {
      "display_name": "Python 3",
      "language": "python",
      "name": "python3"
    },
    "language_info": {
      "name": "python",
      "version": "3.10.12",
      "mimetype": "text/x-python",
      "codemirror_mode": {
        "name": "ipython",
        "version": 3
      },
      "pygments_lexer": "ipython3",
      "nbconvert_exporter": "python",
      "file_extension": ".py"
    },
    "kaggle": {
      "accelerator": "none",
      "dataSources": [
        {
          "sourceId": 6663,
          "sourceType": "datasetVersion",
          "datasetId": 3405
        },
        {
          "sourceId": 3082926,
          "sourceType": "datasetVersion",
          "datasetId": 1885215
        },
        {
          "sourceId": 5375303,
          "sourceType": "datasetVersion",
          "datasetId": 3118273
        },
        {
          "sourceId": 6899851,
          "sourceType": "datasetVersion",
          "datasetId": 3963472
        },
        {
          "sourceId": 7106680,
          "sourceType": "datasetVersion",
          "datasetId": 4097163
        },
        {
          "sourceId": 7108615,
          "sourceType": "datasetVersion",
          "datasetId": 4098469
        }
      ],
      "dockerImageVersionId": 30558,
      "isInternetEnabled": true,
      "language": "python",
      "sourceType": "notebook",
      "isGpuEnabled": false
    },
    "colab": {
      "provenance": []
    }
  },
  "nbformat_minor": 0,
  "nbformat": 4,
  "cells": [
    {
      "cell_type": "code",
      "source": [
        "! pip install pyspark"
      ],
      "metadata": {
        "execution": {
          "iopub.status.busy": "2023-12-02T21:57:46.060332Z",
          "iopub.execute_input": "2023-12-02T21:57:46.061301Z",
          "iopub.status.idle": "2023-12-02T21:58:02.988977Z",
          "shell.execute_reply.started": "2023-12-02T21:57:46.061259Z",
          "shell.execute_reply": "2023-12-02T21:58:02.987660Z"
        },
        "trusted": true,
        "colab": {
          "base_uri": "https://localhost:8080/"
        },
        "id": "Y05-CR7a_i2_",
        "outputId": "ba00ea0e-9ff4-4703-a39f-0ee7101290b1"
      },
      "execution_count": 1,
      "outputs": [
        {
          "output_type": "stream",
          "name": "stdout",
          "text": [
            "Collecting pyspark\n",
            "  Downloading pyspark-3.5.0.tar.gz (316.9 MB)\n",
            "\u001b[2K     \u001b[90m━━━━━━━━━━━━━━━━━━━━━━━━━━━━━━━━━━━━━━━━\u001b[0m \u001b[32m316.9/316.9 MB\u001b[0m \u001b[31m4.9 MB/s\u001b[0m eta \u001b[36m0:00:00\u001b[0m\n",
            "\u001b[?25h  Preparing metadata (setup.py) ... \u001b[?25l\u001b[?25hdone\n",
            "Requirement already satisfied: py4j==0.10.9.7 in /usr/local/lib/python3.10/dist-packages (from pyspark) (0.10.9.7)\n",
            "Building wheels for collected packages: pyspark\n",
            "  Building wheel for pyspark (setup.py) ... \u001b[?25l\u001b[?25hdone\n",
            "  Created wheel for pyspark: filename=pyspark-3.5.0-py2.py3-none-any.whl size=317425345 sha256=02ec8fceeaa564e3caa1a12506ced682331916312fa518a9616acd673ccb8a88\n",
            "  Stored in directory: /root/.cache/pip/wheels/41/4e/10/c2cf2467f71c678cfc8a6b9ac9241e5e44a01940da8fbb17fc\n",
            "Successfully built pyspark\n",
            "Installing collected packages: pyspark\n",
            "Successfully installed pyspark-3.5.0\n"
          ]
        }
      ]
    },
    {
      "cell_type": "code",
      "source": [
        "import os\n",
        "import time\n",
        "\n",
        "# spark imports\n",
        "from pyspark.sql import SparkSession\n",
        "from pyspark.sql.functions import UserDefinedFunction, explode, desc\n",
        "from pyspark.sql.types import StringType, ArrayType\n",
        "from pyspark.mllib.recommendation import ALS\n",
        "from pyspark.sql.functions import col, sum as spark_sum\n",
        "\n",
        "# data science imports\n",
        "import math\n",
        "import numpy as np\n",
        "import pandas as pd\n",
        "\n",
        "# visualization imports\n",
        "import seaborn as sns\n",
        "import matplotlib.pyplot as plt\n",
        "\n",
        "%matplotlib inline"
      ],
      "metadata": {
        "execution": {
          "iopub.status.busy": "2023-12-02T22:37:22.594892Z",
          "iopub.execute_input": "2023-12-02T22:37:22.595426Z",
          "iopub.status.idle": "2023-12-02T22:37:22.609068Z",
          "shell.execute_reply.started": "2023-12-02T22:37:22.595386Z",
          "shell.execute_reply": "2023-12-02T22:37:22.608039Z"
        },
        "trusted": true,
        "id": "3hi5BGRE_i3D"
      },
      "execution_count": 2,
      "outputs": []
    },
    {
      "cell_type": "code",
      "source": [
        "# spark config\n",
        "spark = SparkSession.builder \\\n",
        "    .appName(\"book recommendation\") \\\n",
        "    .config(\"spark.driver.memory\", \"4g\") \\\n",
        "    .config(\"spark.executor.memory\", \"2g\") \\\n",
        "    .config(\"spark.executor.cores\", \"2\") \\\n",
        "    .config(\"spark.master\", \"local[2]\") \\\n",
        "    .getOrCreate()\n",
        "# get spark context\n",
        "sc = spark.sparkContext"
      ],
      "metadata": {
        "execution": {
          "iopub.status.busy": "2023-12-02T22:37:26.459080Z",
          "iopub.execute_input": "2023-12-02T22:37:26.462766Z",
          "iopub.status.idle": "2023-12-02T22:37:26.477354Z",
          "shell.execute_reply.started": "2023-12-02T22:37:26.462705Z",
          "shell.execute_reply": "2023-12-02T22:37:26.475468Z"
        },
        "trusted": true,
        "id": "D3STpa1a_i3E"
      },
      "execution_count": 3,
      "outputs": []
    },
    {
      "cell_type": "code",
      "source": [
        "import zipfile\n",
        "# Extract the contents of the zip file\n",
        "with zipfile.ZipFile('/content/archive.zip', 'r') as zip_ref:\n",
        "    zip_ref.extractall('/content/data')\n",
        "\n",
        "# Specify the path to the extracted files\n",
        "data_path = '/content/data'"
      ],
      "metadata": {
        "id": "4tfbmMdVCSDh"
      },
      "execution_count": 5,
      "outputs": []
    },
    {
      "cell_type": "markdown",
      "source": [
        "## Load Data"
      ],
      "metadata": {
        "id": "51l5Vb8a_i3F"
      }
    },
    {
      "cell_type": "code",
      "source": [
        "books = spark.read.load(os.path.join(data_path, 'books.csv'), format='csv', header=True, inferSchema=True)\n",
        "ratings = spark.read.load(os.path.join(data_path, 'ratings.csv'), format='csv', header=True, inferSchema=True)"
      ],
      "metadata": {
        "execution": {
          "iopub.status.busy": "2023-12-02T22:39:49.655838Z",
          "iopub.execute_input": "2023-12-02T22:39:49.656279Z",
          "iopub.status.idle": "2023-12-02T22:39:56.298997Z",
          "shell.execute_reply.started": "2023-12-02T22:39:49.656247Z",
          "shell.execute_reply": "2023-12-02T22:39:56.297256Z"
        },
        "trusted": true,
        "id": "fVCAZXAu_i3F"
      },
      "execution_count": 7,
      "outputs": []
    },
    {
      "cell_type": "markdown",
      "source": [
        "### basic inspection"
      ],
      "metadata": {
        "id": "9x51pqha_i3G"
      }
    },
    {
      "cell_type": "code",
      "source": [
        "books.show()"
      ],
      "metadata": {
        "execution": {
          "iopub.status.busy": "2023-12-02T22:40:07.080305Z",
          "iopub.execute_input": "2023-12-02T22:40:07.081007Z",
          "iopub.status.idle": "2023-12-02T22:40:07.204725Z",
          "shell.execute_reply.started": "2023-12-02T22:40:07.080973Z",
          "shell.execute_reply": "2023-12-02T22:40:07.203437Z"
        },
        "trusted": true,
        "colab": {
          "base_uri": "https://localhost:8080/"
        },
        "id": "to7rp_UM_i3G",
        "outputId": "f7036a9b-a2fe-4ff1-c1db-5674c293e030"
      },
      "execution_count": 8,
      "outputs": [
        {
          "output_type": "stream",
          "name": "stdout",
          "text": [
            "+-------+--------------------+--------------------+\n",
            "|book_id|             authors|               title|\n",
            "+-------+--------------------+--------------------+\n",
            "|      1|     Suzanne Collins|The Hunger Games ...|\n",
            "|      2|J.K. Rowling, Mar...|Harry Potter and ...|\n",
            "|      3|     Stephenie Meyer|Twilight (Twiligh...|\n",
            "|      4|          Harper Lee|To Kill a Mocking...|\n",
            "|      5| F. Scott Fitzgerald|    The Great Gatsby|\n",
            "|      6|          John Green|The Fault in Our ...|\n",
            "|      7|      J.R.R. Tolkien|          The Hobbit|\n",
            "|      8|       J.D. Salinger|The Catcher in th...|\n",
            "|      9|           Dan Brown|Angels & Demons  ...|\n",
            "|     10|         Jane Austen| Pride and Prejudice|\n",
            "|     11|     Khaled Hosseini|     The Kite Runner|\n",
            "|     12|       Veronica Roth|Divergent (Diverg...|\n",
            "|     13|George Orwell, Er...|                1984|\n",
            "|     14|       George Orwell|         Animal Farm|\n",
            "|     15|Anne Frank, Elean...|The Diary of a Yo...|\n",
            "|     16|Stieg Larsson, Re...|The Girl with the...|\n",
            "|     17|     Suzanne Collins|Catching Fire (Th...|\n",
            "|     18|J.K. Rowling, Mar...|Harry Potter and ...|\n",
            "|     19|      J.R.R. Tolkien|The Fellowship of...|\n",
            "|     20|     Suzanne Collins|Mockingjay (The H...|\n",
            "+-------+--------------------+--------------------+\n",
            "only showing top 20 rows\n",
            "\n"
          ]
        }
      ]
    },
    {
      "cell_type": "code",
      "source": [
        "ratings.show()"
      ],
      "metadata": {
        "execution": {
          "iopub.status.busy": "2023-12-02T22:40:19.343922Z",
          "iopub.execute_input": "2023-12-02T22:40:19.344379Z",
          "iopub.status.idle": "2023-12-02T22:40:19.439604Z",
          "shell.execute_reply.started": "2023-12-02T22:40:19.344338Z",
          "shell.execute_reply": "2023-12-02T22:40:19.438698Z"
        },
        "trusted": true,
        "colab": {
          "base_uri": "https://localhost:8080/"
        },
        "id": "1f4FZsbS_i3G",
        "outputId": "04784467-c510-4f5e-da29-f639968c5b21"
      },
      "execution_count": 9,
      "outputs": [
        {
          "output_type": "stream",
          "name": "stdout",
          "text": [
            "+-------+-------+------+\n",
            "|user_id|book_id|rating|\n",
            "+-------+-------+------+\n",
            "|      1|    258|     5|\n",
            "|      2|   4081|     4|\n",
            "|      2|    260|     5|\n",
            "|      2|   9296|     5|\n",
            "|      2|   2318|     3|\n",
            "|      2|     26|     4|\n",
            "|      2|    315|     3|\n",
            "|      2|     33|     4|\n",
            "|      2|    301|     5|\n",
            "|      2|   2686|     5|\n",
            "|      2|   3753|     5|\n",
            "|      2|   8519|     5|\n",
            "|      4|     70|     4|\n",
            "|      4|    264|     3|\n",
            "|      4|    388|     4|\n",
            "|      4|     18|     5|\n",
            "|      4|     27|     5|\n",
            "|      4|     21|     5|\n",
            "|      4|      2|     5|\n",
            "|      4|     23|     5|\n",
            "+-------+-------+------+\n",
            "only showing top 20 rows\n",
            "\n"
          ]
        }
      ]
    },
    {
      "cell_type": "code",
      "source": [
        "# Get the shape of the books dataset\n",
        "books_shape = (books.count(), len(books.columns))\n",
        "print(\"Books dataset shape:\", books_shape)\n",
        "\n",
        "# Get the shape of the ratings dataset\n",
        "ratings_shape = (ratings.count(), len(ratings.columns))\n",
        "print(\"Ratings dataset shape:\", ratings_shape)"
      ],
      "metadata": {
        "colab": {
          "base_uri": "https://localhost:8080/"
        },
        "id": "3jHGdiPnjwCi",
        "outputId": "a894d398-2531-42b3-bd8c-1b0c125e4d3d"
      },
      "execution_count": 10,
      "outputs": [
        {
          "output_type": "stream",
          "name": "stdout",
          "text": [
            "Books dataset shape: (10000, 3)\n",
            "Ratings dataset shape: (5976479, 3)\n"
          ]
        }
      ]
    },
    {
      "cell_type": "code",
      "source": [
        "# Check for missing values in the books dataset\n",
        "missing_values_books = books.select([spark_sum(col(column).isNull().cast(\"int\")).alias(column) for column in books.columns])\n",
        "missing_values_count_books = missing_values_books.collect()[0]\n",
        "print(\"Missing values in the Books dataset:\")\n",
        "for column, count in zip(books.columns, missing_values_count_books):\n",
        "    print(f\"{column}: {count}\")\n",
        "\n",
        "# Check for missing values in the ratings dataset\n",
        "missing_values_ratings = ratings.select([spark_sum(col(column).isNull().cast(\"int\")).alias(column) for column in ratings.columns])\n",
        "missing_values_count_ratings = missing_values_ratings.collect()[0]\n",
        "print(\"Missing values in the Ratings dataset:\")\n",
        "for column, count in zip(ratings.columns, missing_values_count_ratings):\n",
        "    print(f\"{column}: {count}\")"
      ],
      "metadata": {
        "colab": {
          "base_uri": "https://localhost:8080/"
        },
        "id": "Rvye-dY3kHaU",
        "outputId": "57d40630-8677-474f-e45c-e61aecf67830"
      },
      "execution_count": 11,
      "outputs": [
        {
          "output_type": "stream",
          "name": "stdout",
          "text": [
            "Missing values in the Books dataset:\n",
            "book_id: 0\n",
            "authors: 0\n",
            "title: 0\n",
            "Missing values in the Ratings dataset:\n",
            "user_id: 0\n",
            "book_id: 0\n",
            "rating: 0\n"
          ]
        }
      ]
    },
    {
      "cell_type": "code",
      "source": [
        "books.describe().show()"
      ],
      "metadata": {
        "colab": {
          "base_uri": "https://localhost:8080/"
        },
        "id": "3yh9zvcLkYfS",
        "outputId": "a904b3a1-c274-49cc-f42d-f8b455928747"
      },
      "execution_count": 12,
      "outputs": [
        {
          "output_type": "stream",
          "name": "stdout",
          "text": [
            "+-------+------------------+--------------------+-----------------------------------+\n",
            "|summary|           book_id|             authors|                              title|\n",
            "+-------+------------------+--------------------+-----------------------------------+\n",
            "|  count|             10000|               10000|                              10000|\n",
            "|   mean|            5000.5|                NULL|                 1567.2857142857142|\n",
            "| stddev|2886.8956799071675|                NULL|                 1010.0657922937024|\n",
            "|    min|                 1|    A. Manette Ansay|                Angels (Walsh Fa...|\n",
            "|    max|             10000|يوسف زيدان, Youss...|美少女戦士セーラームーン新装版 1...|\n",
            "+-------+------------------+--------------------+-----------------------------------+\n",
            "\n"
          ]
        }
      ]
    },
    {
      "cell_type": "code",
      "source": [
        "ratings.describe().show()"
      ],
      "metadata": {
        "colab": {
          "base_uri": "https://localhost:8080/"
        },
        "id": "nfjPZnCKkZu0",
        "outputId": "97b5a023-9a1a-4e7d-9b75-cda5bafca011"
      },
      "execution_count": 13,
      "outputs": [
        {
          "output_type": "stream",
          "name": "stdout",
          "text": [
            "+-------+------------------+------------------+------------------+\n",
            "|summary|           user_id|           book_id|            rating|\n",
            "+-------+------------------+------------------+------------------+\n",
            "|  count|           5976479|           5976479|           5976479|\n",
            "|   mean|26224.457362102334|2006.4773984816143|3.9198655261735214|\n",
            "| stddev| 15413.23409327275|2468.4994633795254|0.9910868103700692|\n",
            "|    min|                 1|                 1|                 1|\n",
            "|    max|             53424|             10000|                 5|\n",
            "+-------+------------------+------------------+------------------+\n",
            "\n"
          ]
        }
      ]
    },
    {
      "cell_type": "markdown",
      "source": [
        "What are the ratings?"
      ],
      "metadata": {
        "id": "CL8IDX8h_i3H"
      }
    },
    {
      "cell_type": "code",
      "source": [
        "print('Distinct values of ratings:')\n",
        "print(sorted(ratings.select('rating').distinct().rdd.map(lambda r: r[0]).collect()))"
      ],
      "metadata": {
        "execution": {
          "iopub.status.busy": "2023-12-02T22:40:55.476505Z",
          "iopub.execute_input": "2023-12-02T22:40:55.476966Z",
          "iopub.status.idle": "2023-12-02T22:41:02.157430Z",
          "shell.execute_reply.started": "2023-12-02T22:40:55.476931Z",
          "shell.execute_reply": "2023-12-02T22:41:02.155350Z"
        },
        "trusted": true,
        "colab": {
          "base_uri": "https://localhost:8080/"
        },
        "id": "aoQpCIgw_i3H",
        "outputId": "3eadeaac-c133-4fc3-ae6e-73a966139bd7"
      },
      "execution_count": 14,
      "outputs": [
        {
          "output_type": "stream",
          "name": "stdout",
          "text": [
            "Distinct values of ratings:\n",
            "[1, 2, 3, 4, 5]\n"
          ]
        }
      ]
    },
    {
      "cell_type": "markdown",
      "source": [
        "What is minimum number of ratings per user and minimum number of ratings per book?"
      ],
      "metadata": {
        "id": "MD4y_QYu_i3I"
      }
    },
    {
      "cell_type": "code",
      "source": [
        "tmp1 = ratings.groupBy(\"user_id\").count().toPandas()['count'].min()\n",
        "tmp2 = ratings.groupBy(\"book_id\").count().toPandas()['count'].min()\n",
        "print('For the users that rated books and the books that were rated:')\n",
        "print('Minimum number of ratings per user is {}'.format(tmp1))\n",
        "print('Minimum number of ratings per book is {}'.format(tmp2))"
      ],
      "metadata": {
        "execution": {
          "iopub.status.busy": "2023-12-02T22:41:17.107280Z",
          "iopub.execute_input": "2023-12-02T22:41:17.108435Z",
          "iopub.status.idle": "2023-12-02T22:41:29.177386Z",
          "shell.execute_reply.started": "2023-12-02T22:41:17.108395Z",
          "shell.execute_reply": "2023-12-02T22:41:29.176164Z"
        },
        "trusted": true,
        "colab": {
          "base_uri": "https://localhost:8080/"
        },
        "id": "8WTHv7Ni_i3I",
        "outputId": "c8f6463e-0085-4629-8438-e1dde843ce5c"
      },
      "execution_count": 15,
      "outputs": [
        {
          "output_type": "stream",
          "name": "stdout",
          "text": [
            "For the users that rated books and the books that were rated:\n",
            "Minimum number of ratings per user is 19\n",
            "Minimum number of ratings per book is 8\n"
          ]
        }
      ]
    },
    {
      "cell_type": "markdown",
      "source": [
        "How many books are rated by only one user?"
      ],
      "metadata": {
        "id": "VAeRZkJG_i3I"
      }
    },
    {
      "cell_type": "code",
      "source": [
        "tmp1 = sum(ratings.groupBy(\"book_id\").count().toPandas()['count'] == 1)\n",
        "tmp2 = ratings.select('book_id').distinct().count()\n",
        "print('{} out of {} books are rated by only one user'.format(tmp1, tmp2))"
      ],
      "metadata": {
        "execution": {
          "iopub.status.busy": "2023-12-02T22:42:05.970619Z",
          "iopub.execute_input": "2023-12-02T22:42:05.971029Z",
          "iopub.status.idle": "2023-12-02T22:42:16.009166Z",
          "shell.execute_reply.started": "2023-12-02T22:42:05.970998Z",
          "shell.execute_reply": "2023-12-02T22:42:16.007952Z"
        },
        "trusted": true,
        "colab": {
          "base_uri": "https://localhost:8080/"
        },
        "id": "r7eCYKog_i3I",
        "outputId": "9f9959a8-8820-4d77-a3e1-955ea5ae3c33"
      },
      "execution_count": 16,
      "outputs": [
        {
          "output_type": "stream",
          "name": "stdout",
          "text": [
            "0 out of 10000 books are rated by only one user\n"
          ]
        }
      ]
    },
    {
      "cell_type": "markdown",
      "source": [
        "What is the total number of users in the data sets?"
      ],
      "metadata": {
        "id": "-XkBdFUG_i3J"
      }
    },
    {
      "cell_type": "code",
      "source": [
        "tmp = ratings.select('user_id').distinct().count()\n",
        "print('We have a total of {} distinct users in the data sets'.format(tmp))"
      ],
      "metadata": {
        "execution": {
          "iopub.status.busy": "2023-12-02T22:43:33.377898Z",
          "iopub.execute_input": "2023-12-02T22:43:33.378651Z",
          "iopub.status.idle": "2023-12-02T22:43:38.690114Z",
          "shell.execute_reply.started": "2023-12-02T22:43:33.378613Z",
          "shell.execute_reply": "2023-12-02T22:43:38.689116Z"
        },
        "trusted": true,
        "colab": {
          "base_uri": "https://localhost:8080/"
        },
        "id": "FJLmIQbj_i3J",
        "outputId": "6f9f20e1-0243-4c59-b585-0e81e51e0845"
      },
      "execution_count": 17,
      "outputs": [
        {
          "output_type": "stream",
          "name": "stdout",
          "text": [
            "We have a total of 53424 distinct users in the data sets\n"
          ]
        }
      ]
    },
    {
      "cell_type": "markdown",
      "source": [
        "What is the total number of books in the data sets?"
      ],
      "metadata": {
        "id": "NxppT8MX_i3J"
      }
    },
    {
      "cell_type": "code",
      "source": [
        "tmp = books.select('book_id').distinct().count()\n",
        "print('We have a total of {} distinct books in the data sets'.format(tmp))"
      ],
      "metadata": {
        "execution": {
          "iopub.status.busy": "2023-12-02T22:44:00.058662Z",
          "iopub.execute_input": "2023-12-02T22:44:00.059119Z",
          "iopub.status.idle": "2023-12-02T22:44:00.252251Z",
          "shell.execute_reply.started": "2023-12-02T22:44:00.059088Z",
          "shell.execute_reply": "2023-12-02T22:44:00.251368Z"
        },
        "trusted": true,
        "colab": {
          "base_uri": "https://localhost:8080/"
        },
        "id": "FmO5R8_I_i3K",
        "outputId": "c8894cba-4ced-451d-ed7a-b2e6541f9079"
      },
      "execution_count": 18,
      "outputs": [
        {
          "output_type": "stream",
          "name": "stdout",
          "text": [
            "We have a total of 10000 distinct books in the data sets\n"
          ]
        }
      ]
    },
    {
      "cell_type": "markdown",
      "source": [
        "How many books are rated by users? List movies not rated yet?"
      ],
      "metadata": {
        "id": "A0F70pHL_i3L"
      }
    },
    {
      "cell_type": "code",
      "source": [
        "tmp1 = books.select('book_id').distinct().count()\n",
        "tmp2 = ratings.select('book_id').distinct().count()\n",
        "print('We have a total of {} distinct books that are rated by users in ratings table'.format(tmp2))\n",
        "print('We have {} books that are not rated yet'.format(tmp1-tmp2))"
      ],
      "metadata": {
        "execution": {
          "iopub.status.busy": "2023-12-02T22:44:58.698555Z",
          "iopub.execute_input": "2023-12-02T22:44:58.699264Z",
          "iopub.status.idle": "2023-12-02T22:45:03.787388Z",
          "shell.execute_reply.started": "2023-12-02T22:44:58.699229Z",
          "shell.execute_reply": "2023-12-02T22:45:03.786512Z"
        },
        "trusted": true,
        "colab": {
          "base_uri": "https://localhost:8080/"
        },
        "id": "JbEGQucJ_i3L",
        "outputId": "6808dea1-9b3a-4a0c-e500-2267b9453ad4"
      },
      "execution_count": 19,
      "outputs": [
        {
          "output_type": "stream",
          "name": "stdout",
          "text": [
            "We have a total of 10000 distinct books that are rated by users in ratings table\n",
            "We have 0 books that are not rated yet\n"
          ]
        }
      ]
    },
    {
      "cell_type": "markdown",
      "source": [
        "List all book authors"
      ],
      "metadata": {
        "id": "Pl61OCip_i3M"
      }
    },
    {
      "cell_type": "code",
      "source": [
        "# define a udf for splitting the genres string\n",
        "splitter = UserDefinedFunction(lambda x: x.split('|'), ArrayType(StringType()))\n",
        "# query\n",
        "print('All distinct authors: ')\n",
        "books.select(explode(splitter(\"authors\")).alias(\"authors\")).distinct().show()"
      ],
      "metadata": {
        "execution": {
          "iopub.status.busy": "2023-12-02T22:47:00.620382Z",
          "iopub.execute_input": "2023-12-02T22:47:00.621298Z",
          "iopub.status.idle": "2023-12-02T22:47:01.112539Z",
          "shell.execute_reply.started": "2023-12-02T22:47:00.621254Z",
          "shell.execute_reply": "2023-12-02T22:47:01.111183Z"
        },
        "trusted": true,
        "colab": {
          "base_uri": "https://localhost:8080/"
        },
        "id": "hfj1Q3E9_i3M",
        "outputId": "3dd89b06-86eb-4dd1-da6c-cb49c794d21e"
      },
      "execution_count": 21,
      "outputs": [
        {
          "output_type": "stream",
          "name": "stdout",
          "text": [
            "All distinct authors: \n",
            "+--------------------+\n",
            "|             authors|\n",
            "+--------------------+\n",
            "|         Lisa Genova|\n",
            "|          James Frey|\n",
            "|              Banksy|\n",
            "|Grant Morrison, D...|\n",
            "|    Elin Hilderbrand|\n",
            "|     Karen Armstrong|\n",
            "|Thomas More, Paul...|\n",
            "|        Mia Sheridan|\n",
            "|         Kylie Scott|\n",
            "|      Rosamund Hodge|\n",
            "|Garth Ennis, Stev...|\n",
            "|Isa Chandra Mosko...|\n",
            "|          Dava Sobel|\n",
            "|Fábio Moon, Gabri...|\n",
            "|   Sharon Kay Penman|\n",
            "|    Joshilyn Jackson|\n",
            "|        Geoff Colvin|\n",
            "|Maud Hart Lovelac...|\n",
            "|         Bruce Degen|\n",
            "|        Doug Stanton|\n",
            "+--------------------+\n",
            "only showing top 20 rows\n",
            "\n"
          ]
        }
      ]
    },
    {
      "cell_type": "markdown",
      "source": [
        "Find out the number of books for each author"
      ],
      "metadata": {
        "id": "0_RsZ6ds_i3M"
      }
    },
    {
      "cell_type": "code",
      "source": [
        "print('Counts of books per author')\n",
        "books.select('book_id', explode(splitter(\"authors\")).alias(\"authors\")) \\\n",
        "    .groupby('authors') \\\n",
        "    .count() \\\n",
        "    .sort(desc('count')) \\\n",
        "    .show()"
      ],
      "metadata": {
        "execution": {
          "iopub.status.busy": "2023-12-02T22:47:19.168901Z",
          "iopub.execute_input": "2023-12-02T22:47:19.169375Z",
          "iopub.status.idle": "2023-12-02T22:47:19.654233Z",
          "shell.execute_reply.started": "2023-12-02T22:47:19.169331Z",
          "shell.execute_reply": "2023-12-02T22:47:19.653335Z"
        },
        "trusted": true,
        "colab": {
          "base_uri": "https://localhost:8080/"
        },
        "id": "GP029S3O_i3M",
        "outputId": "a1a7d0c3-092d-47df-d3e6-96cbe42a2537"
      },
      "execution_count": 22,
      "outputs": [
        {
          "output_type": "stream",
          "name": "stdout",
          "text": [
            "Counts of books per author\n",
            "+-------------------+-----+\n",
            "|            authors|count|\n",
            "+-------------------+-----+\n",
            "|       Stephen King|   60|\n",
            "|       Nora Roberts|   59|\n",
            "|        Dean Koontz|   47|\n",
            "|    Terry Pratchett|   42|\n",
            "|    Agatha Christie|   39|\n",
            "|          Meg Cabot|   37|\n",
            "|    James Patterson|   36|\n",
            "|     David Baldacci|   34|\n",
            "|       John Grisham|   33|\n",
            "|          J.D. Robb|   33|\n",
            "|Laurell K. Hamilton|   30|\n",
            "|    Janet Evanovich|   30|\n",
            "|   Michael Connelly|   29|\n",
            "|      John Sandford|   28|\n",
            "|     Kristen Ashley|   27|\n",
            "|      Tamora Pierce|   26|\n",
            "|       Harlan Coben|   25|\n",
            "|  Patricia Cornwell|   25|\n",
            "|   Sherrilyn Kenyon|   25|\n",
            "|        Sue Grafton|   24|\n",
            "+-------------------+-----+\n",
            "only showing top 20 rows\n",
            "\n"
          ]
        }
      ]
    },
    {
      "cell_type": "markdown",
      "source": [
        "## Spark ALS based approach for training model\n",
        "1. Reload data\n",
        "2. Split data into train, validation, test\n",
        "3. ALS model selection and evaluation\n",
        "4. Model testing"
      ],
      "metadata": {
        "id": "0lY24WKf_i3M"
      }
    },
    {
      "cell_type": "markdown",
      "source": [
        "### Reload data\n",
        "We will use an RDD-based API from pyspark.mllib to predict the ratings, so let's reload \"ratings.csv\" using sc.textFile and then convert it to the form of (user, item, rating) tuples."
      ],
      "metadata": {
        "id": "1W4DuqjA_i3N"
      }
    },
    {
      "cell_type": "code",
      "source": [
        "# load data\n",
        "book_rating = sc.textFile(os.path.join(data_path, 'ratings.csv'))\n",
        "# preprocess data -- only need [\"user_id\", \"book_id\", \"rating\"]\n",
        "header = book_rating.take(1)[0]\n",
        "rating_data = book_rating \\\n",
        "    .filter(lambda line: line!=header) \\\n",
        "    .map(lambda line: line.split(\",\")) \\\n",
        "    .map(lambda tokens: (int(tokens[0]), int(tokens[1]), float(tokens[2]))) \\\n",
        "    .cache()\n",
        "# check three rows\n",
        "rating_data.take(3)"
      ],
      "metadata": {
        "execution": {
          "iopub.status.busy": "2023-12-02T22:48:26.353592Z",
          "iopub.execute_input": "2023-12-02T22:48:26.354164Z",
          "iopub.status.idle": "2023-12-02T22:48:41.955334Z",
          "shell.execute_reply.started": "2023-12-02T22:48:26.354125Z",
          "shell.execute_reply": "2023-12-02T22:48:41.954090Z"
        },
        "trusted": true,
        "colab": {
          "base_uri": "https://localhost:8080/"
        },
        "id": "S7sZ02I3_i3N",
        "outputId": "5ffb6d1b-912b-4064-916d-3f6077493b83"
      },
      "execution_count": 23,
      "outputs": [
        {
          "output_type": "execute_result",
          "data": {
            "text/plain": [
              "[(1, 258, 5.0), (2, 4081, 4.0), (2, 260, 5.0)]"
            ]
          },
          "metadata": {},
          "execution_count": 23
        }
      ]
    },
    {
      "cell_type": "markdown",
      "source": [
        "### Split data\n",
        "Now we split the data into training/validation/testing sets using a 6/2/2 ratio."
      ],
      "metadata": {
        "id": "VSUezPXe_i3N"
      }
    },
    {
      "cell_type": "code",
      "source": [
        "train, validation, test = rating_data.randomSplit([6, 2, 2], seed=99)\n",
        "# cache data\n",
        "train.cache()\n",
        "validation.cache()\n",
        "test.cache()"
      ],
      "metadata": {
        "execution": {
          "iopub.status.busy": "2023-12-02T22:48:54.011763Z",
          "iopub.execute_input": "2023-12-02T22:48:54.012159Z",
          "iopub.status.idle": "2023-12-02T22:48:54.041852Z",
          "shell.execute_reply.started": "2023-12-02T22:48:54.012127Z",
          "shell.execute_reply": "2023-12-02T22:48:54.040699Z"
        },
        "trusted": true,
        "colab": {
          "base_uri": "https://localhost:8080/"
        },
        "id": "_yYKtWrd_i3N",
        "outputId": "8fc42945-6046-43b4-deee-2ed5d89158ab"
      },
      "execution_count": 24,
      "outputs": [
        {
          "output_type": "execute_result",
          "data": {
            "text/plain": [
              "PythonRDD[189] at RDD at PythonRDD.scala:53"
            ]
          },
          "metadata": {},
          "execution_count": 24
        }
      ]
    },
    {
      "cell_type": "markdown",
      "source": [
        "### ALS model selection and evaluation\n",
        "With the ALS model, we can use a grid search to find the optimal hyperparameters."
      ],
      "metadata": {
        "id": "tRx1SFx__i3O"
      }
    },
    {
      "cell_type": "code",
      "source": [
        "def train_ALS(train_data, validation_data, num_iters, reg_param, ranks):\n",
        "    \"\"\"\n",
        "    Grid Search Function to select the best model based on RMSE of hold-out data\n",
        "    \"\"\"\n",
        "    # initial\n",
        "    min_error = float('inf')\n",
        "    best_rank = -1\n",
        "    best_regularization = 0\n",
        "    best_model = None\n",
        "    for rank in ranks:\n",
        "        for reg in reg_param:\n",
        "            # train ALS model\n",
        "            model = ALS.train(\n",
        "                ratings=train_data,    # (userID, productID, rating) tuple\n",
        "                iterations=num_iters,\n",
        "                rank=rank,\n",
        "                lambda_=reg,           # regularization param\n",
        "                seed=99)\n",
        "            # make prediction\n",
        "            valid_data = validation_data.map(lambda p: (p[0], p[1]))\n",
        "            predictions = model.predictAll(valid_data).map(lambda r: ((r[0], r[1]), r[2]))\n",
        "            # get the rating result\n",
        "            ratesAndPreds = validation_data.map(lambda r: ((r[0], r[1]), r[2])).join(predictions)\n",
        "            # get the RMSE\n",
        "            MSE = ratesAndPreds.map(lambda r: (r[1][0] - r[1][1])**2).mean()\n",
        "            error = math.sqrt(MSE)\n",
        "            print('{} latent factors and regularization = {}: validation RMSE is {}'.format(rank, reg, error))\n",
        "            if error < min_error:\n",
        "                min_error = error\n",
        "                best_rank = rank\n",
        "                best_regularization = reg\n",
        "                best_model = model\n",
        "    print('\\nThe best model has {} latent factors and regularization = {}'.format(best_rank, best_regularization))\n",
        "    return best_model"
      ],
      "metadata": {
        "execution": {
          "iopub.status.busy": "2023-12-02T22:49:14.594464Z",
          "iopub.execute_input": "2023-12-02T22:49:14.595659Z",
          "iopub.status.idle": "2023-12-02T22:49:14.607047Z",
          "shell.execute_reply.started": "2023-12-02T22:49:14.595610Z",
          "shell.execute_reply": "2023-12-02T22:49:14.605876Z"
        },
        "trusted": true,
        "id": "Z-lwE85f_i3O"
      },
      "execution_count": 25,
      "outputs": []
    },
    {
      "cell_type": "code",
      "source": [
        "# hyper-param config\n",
        "num_iterations = 10\n",
        "ranks = [20,30,40]\n",
        "reg_params = [0.001, 0.01, 0.05, 0.1, 0.2]\n",
        "\n",
        "# grid search and select best model\n",
        "final_model = train_ALS(train, validation, num_iterations, reg_params, ranks)\n",
        "\n",
        "start_time = time.time()\n",
        "print ('Total Runtime: {:.2f} seconds'.format(time.time() - start_time))"
      ],
      "metadata": {
        "execution": {
          "iopub.status.busy": "2023-12-02T22:49:45.585370Z",
          "iopub.execute_input": "2023-12-02T22:49:45.586089Z",
          "iopub.status.idle": "2023-12-02T23:43:02.809942Z",
          "shell.execute_reply.started": "2023-12-02T22:49:45.586051Z",
          "shell.execute_reply": "2023-12-02T23:43:02.808780Z"
        },
        "trusted": true,
        "colab": {
          "base_uri": "https://localhost:8080/"
        },
        "id": "4TTkIKQJ_i3O",
        "outputId": "e20b7e77-8597-44ba-dcef-d8812c3fdbef"
      },
      "execution_count": 26,
      "outputs": [
        {
          "output_type": "stream",
          "name": "stdout",
          "text": [
            "20 latent factors and regularization = 0.001: validation RMSE is 1.250745735800901\n",
            "20 latent factors and regularization = 0.01: validation RMSE is 0.9682803673834399\n",
            "20 latent factors and regularization = 0.05: validation RMSE is 0.8497245941002024\n",
            "20 latent factors and regularization = 0.1: validation RMSE is 0.8258666839211418\n",
            "20 latent factors and regularization = 0.2: validation RMSE is 0.8614423724862547\n",
            "30 latent factors and regularization = 0.001: validation RMSE is 1.6633105258568468\n",
            "30 latent factors and regularization = 0.01: validation RMSE is 1.0361808298113442\n",
            "30 latent factors and regularization = 0.05: validation RMSE is 0.8575154810054164\n",
            "30 latent factors and regularization = 0.1: validation RMSE is 0.8249246511276649\n",
            "30 latent factors and regularization = 0.2: validation RMSE is 0.8610683102623479\n",
            "40 latent factors and regularization = 0.001: validation RMSE is 2.014118223515485\n",
            "40 latent factors and regularization = 0.01: validation RMSE is 1.082805936024296\n",
            "40 latent factors and regularization = 0.05: validation RMSE is 0.8608462795649415\n",
            "40 latent factors and regularization = 0.1: validation RMSE is 0.8249359412037222\n",
            "40 latent factors and regularization = 0.2: validation RMSE is 0.861335600163948\n",
            "\n",
            "The best model has 30 latent factors and regularization = 0.1\n",
            "Total Runtime: 3083.34 seconds\n"
          ]
        }
      ]
    },
    {
      "cell_type": "markdown",
      "source": [
        "### ALS model learning curve\n",
        "As we increase number of iterations in training ALS, we can see how RMSE changes and whether or not model is overfitted."
      ],
      "metadata": {
        "id": "yVtLfzL6_i3O"
      }
    },
    {
      "cell_type": "code",
      "source": [
        "def plot_learning_curve(arr_iters, train_data, validation_data, reg, rank):\n",
        "    \"\"\"\n",
        "    Plot function to show learning curve of ALS\n",
        "    \"\"\"\n",
        "    errors = []\n",
        "    for num_iters in arr_iters:\n",
        "        # train ALS model\n",
        "        model = ALS.train(\n",
        "            ratings=train_data,    # (userID, productID, rating) tuple\n",
        "            iterations=num_iters,\n",
        "            rank=rank,\n",
        "            lambda_=reg,           # regularization param\n",
        "            seed=99)\n",
        "        # make prediction\n",
        "        valid_data = validation_data.map(lambda p: (p[0], p[1]))\n",
        "        predictions = model.predictAll(valid_data).map(lambda r: ((r[0], r[1]), r[2]))\n",
        "        # get the rating result\n",
        "        ratesAndPreds = validation_data.map(lambda r: ((r[0], r[1]), r[2])).join(predictions)\n",
        "        # get the RMSE\n",
        "        MSE = ratesAndPreds.map(lambda r: (r[1][0] - r[1][1])**2).mean()\n",
        "        error = math.sqrt(MSE)\n",
        "        # add to errors\n",
        "        errors.append(error)\n",
        "\n",
        "    # plot\n",
        "    plt.figure(figsize=(12, 6))\n",
        "    plt.plot(arr_iters, errors)\n",
        "    plt.xlabel('number of iterations')\n",
        "    plt.ylabel('RMSE')\n",
        "    plt.title('ALS Learning Curve')\n",
        "    plt.grid(True)\n",
        "    plt.show()"
      ],
      "metadata": {
        "execution": {
          "iopub.status.busy": "2023-12-02T23:44:55.584707Z",
          "iopub.execute_input": "2023-12-02T23:44:55.585814Z",
          "iopub.status.idle": "2023-12-02T23:44:55.598035Z",
          "shell.execute_reply.started": "2023-12-02T23:44:55.585770Z",
          "shell.execute_reply": "2023-12-02T23:44:55.596939Z"
        },
        "trusted": true,
        "id": "piLU4rqI_i3O"
      },
      "execution_count": 27,
      "outputs": []
    },
    {
      "cell_type": "code",
      "source": [
        "# create an array of num_iters\n",
        "iter_array = list(range(1, 11))\n",
        "# create learning curve plot\n",
        "plot_learning_curve(iter_array, train, validation, 0.01, 30)"
      ],
      "metadata": {
        "execution": {
          "iopub.status.busy": "2023-12-02T23:44:58.985253Z",
          "iopub.execute_input": "2023-12-02T23:44:58.986012Z",
          "iopub.status.idle": "2023-12-02T23:59:08.515704Z",
          "shell.execute_reply.started": "2023-12-02T23:44:58.985976Z",
          "shell.execute_reply": "2023-12-02T23:59:08.514846Z"
        },
        "trusted": true,
        "id": "_8hhpyxF_i3X",
        "colab": {
          "base_uri": "https://localhost:8080/",
          "height": 564
        },
        "outputId": "fe93ef48-235a-4355-af1d-898ec243d7cf"
      },
      "execution_count": 28,
      "outputs": [
        {
          "output_type": "display_data",
          "data": {
            "text/plain": [
              "<Figure size 1200x600 with 1 Axes>"
            ],
            "image/png": "[encoded data removed]"
          },
          "metadata": {}
        }
      ]
    },
    {
      "cell_type": "markdown",
      "source": [
        "### Model testing\n",
        "And finally, make a prediction and check the testing error using out-of-sample data"
      ],
      "metadata": {
        "id": "7zh37SBz_i3Y"
      }
    },
    {
      "cell_type": "code",
      "source": [
        "# make prediction using test data\n",
        "test_data = test.map(lambda p: (p[0], p[1]))\n",
        "predictions = final_model.predictAll(test_data).map(lambda r: ((r[0], r[1]), r[2]))\n",
        "# get the rating result\n",
        "ratesAndPreds = test.map(lambda r: ((r[0], r[1]), r[2])).join(predictions)\n",
        "# get the RMSE\n",
        "MSE = ratesAndPreds.map(lambda r: (r[1][0] - r[1][1])**2).mean()\n",
        "error = math.sqrt(MSE)\n",
        "print('The out-of-sample RMSE of rating predictions is', round(error, 4))"
      ],
      "metadata": {
        "execution": {
          "iopub.status.busy": "2023-12-02T23:59:17.219556Z",
          "iopub.execute_input": "2023-12-02T23:59:17.220545Z",
          "iopub.status.idle": "2023-12-03T00:00:02.888478Z",
          "shell.execute_reply.started": "2023-12-02T23:59:17.220510Z",
          "shell.execute_reply": "2023-12-03T00:00:02.887519Z"
        },
        "trusted": true,
        "id": "J1BCK7bB_i3Y",
        "colab": {
          "base_uri": "https://localhost:8080/"
        },
        "outputId": "34d5cf57-bb6f-46f6-c318-370411555141"
      },
      "execution_count": 29,
      "outputs": [
        {
          "output_type": "stream",
          "name": "stdout",
          "text": [
            "The out-of-sample RMSE of rating predictions is 0.8259\n"
          ]
        }
      ]
    },
    {
      "cell_type": "markdown",
      "source": [
        "### Make movie recommendation to myself\n",
        "We need to define a function that takes new user's movie rating and output top 10 recommendations"
      ],
      "metadata": {
        "id": "OMaTx2Bv_i3Z"
      }
    },
    {
      "cell_type": "code",
      "source": [
        "def get_book_id(df_books, fav_book_list):\n",
        "    \"\"\"\n",
        "    return all book_id(s) of user's favorite books\n",
        "\n",
        "    Parameters\n",
        "    ----------\n",
        "    df_books: spark Dataframe, books data\n",
        "\n",
        "    fav_book_list: list, user's list of favorite books\n",
        "\n",
        "    Return\n",
        "    ------\n",
        "    book_id_list: list of book_Id(s)\n",
        "    \"\"\"\n",
        "    book_id_list = []\n",
        "    for book in fav_book_list:\n",
        "        book_ids = df_books \\\n",
        "            .filter(books.title.like('%{}%'.format(book))) \\\n",
        "            .select('book_id') \\\n",
        "            .rdd \\\n",
        "            .map(lambda r: r[0]) \\\n",
        "            .collect()\n",
        "        book_id_list.extend(book_ids)\n",
        "    return list(set(book_id_list))"
      ],
      "metadata": {
        "execution": {
          "iopub.status.busy": "2023-12-03T00:01:21.308291Z",
          "iopub.execute_input": "2023-12-03T00:01:21.308767Z",
          "iopub.status.idle": "2023-12-03T00:01:21.316828Z",
          "shell.execute_reply.started": "2023-12-03T00:01:21.308729Z",
          "shell.execute_reply": "2023-12-03T00:01:21.315716Z"
        },
        "trusted": true,
        "id": "HQT1ffSj_i3Z"
      },
      "execution_count": 30,
      "outputs": []
    },
    {
      "cell_type": "code",
      "source": [
        "def add_new_user_to_data(train_data, book_id_list, spark_context):\n",
        "    \"\"\"\n",
        "    add new rows with new user, user's book and ratings to\n",
        "    existing train data\n",
        "\n",
        "    Parameters\n",
        "    ----------\n",
        "    train_data: spark RDD, ratings data\n",
        "\n",
        "    book_id_list: list, list of book_id(s)\n",
        "\n",
        "    spark_context: Spark Context object\n",
        "\n",
        "    Return\n",
        "    ------\n",
        "    new train data with the new user's rows\n",
        "    \"\"\"\n",
        "    # get new user id\n",
        "    new_id = train_data.map(lambda r: r[0]).max() + 1\n",
        "    # get max rating\n",
        "    max_rating = train_data.map(lambda r: r[2]).max()\n",
        "    # create new user rdd\n",
        "    user_rows = [(new_id, book_id, max_rating) for book_id in book_id_list]\n",
        "    new_rdd = spark_context.parallelize(user_rows)\n",
        "    # return new train data\n",
        "    return train_data.union(new_rdd)"
      ],
      "metadata": {
        "execution": {
          "iopub.status.busy": "2023-12-03T00:01:23.760608Z",
          "iopub.execute_input": "2023-12-03T00:01:23.761232Z",
          "iopub.status.idle": "2023-12-03T00:01:23.769034Z",
          "shell.execute_reply.started": "2023-12-03T00:01:23.761201Z",
          "shell.execute_reply": "2023-12-03T00:01:23.767899Z"
        },
        "trusted": true,
        "id": "1JncrupT_i3Z"
      },
      "execution_count": 31,
      "outputs": []
    },
    {
      "cell_type": "code",
      "source": [
        "def get_inference_data(train_data, df_books, book_id_list):\n",
        "    \"\"\"\n",
        "    return a rdd with the userid and all books (except ones in book_id_list)\n",
        "\n",
        "    Parameters\n",
        "    ----------\n",
        "    train_data: spark RDD, ratings data\n",
        "\n",
        "    df_books: spark Dataframe, books data\n",
        "\n",
        "    book_id_list: list, list of book_id(s)\n",
        "\n",
        "    Return\n",
        "    ------\n",
        "    inference data: Spark RDD\n",
        "    \"\"\"\n",
        "    # get new user id\n",
        "    new_id = train_data.map(lambda r: r[0]).max() + 1\n",
        "    # return inference rdd\n",
        "    return df_books.rdd \\\n",
        "        .map(lambda r: r[0]) \\\n",
        "        .distinct() \\\n",
        "        .filter(lambda x: x not in book_id_list) \\\n",
        "        .map(lambda x: (new_id, x))"
      ],
      "metadata": {
        "execution": {
          "iopub.status.busy": "2023-12-03T00:01:34.788180Z",
          "iopub.execute_input": "2023-12-03T00:01:34.788618Z",
          "iopub.status.idle": "2023-12-03T00:01:34.796919Z",
          "shell.execute_reply.started": "2023-12-03T00:01:34.788583Z",
          "shell.execute_reply": "2023-12-03T00:01:34.795548Z"
        },
        "trusted": true,
        "id": "8qrZcMq3_i3Z"
      },
      "execution_count": 32,
      "outputs": []
    },
    {
      "cell_type": "code",
      "source": [
        "def make_recommendation(best_model_params, ratings_data, df_books,\n",
        "                        fav_book_list, n_recommendations, spark_context):\n",
        "    \"\"\"\n",
        "    return top n book recommendation based on user's input list of favorite books\n",
        "\n",
        "\n",
        "    Parameters\n",
        "    ----------\n",
        "    best_model_params: dict, {'iterations': iter, 'rank': rank, 'lambda_': reg}\n",
        "\n",
        "    ratings_data: spark RDD, ratings data\n",
        "\n",
        "    df_books: spark Dataframe, books data\n",
        "\n",
        "    fav_book_list: list, user's list of favorite books\n",
        "\n",
        "    n_recommendations: int, top n recommendations\n",
        "\n",
        "    spark_context: Spark Context object\n",
        "\n",
        "    Return\n",
        "    ------\n",
        "    list of top n book recommendations\n",
        "    \"\"\"\n",
        "    # modify train data by adding new user's rows\n",
        "    book_id_list = get_book_id(df_books, fav_book_list)\n",
        "    train_data = add_new_user_to_data(ratings_data, book_id_list, spark_context)\n",
        "\n",
        "    # train best ALS\n",
        "    model = ALS.train(\n",
        "        ratings=train_data,\n",
        "        iterations=best_model_params.get('iterations', None),\n",
        "        rank=best_model_params.get('rank', None),\n",
        "        lambda_=best_model_params.get('lambda_', None),\n",
        "        seed=99)\n",
        "\n",
        "    # get inference rdd\n",
        "    inference_rdd = get_inference_data(ratings_data, df_books, book_id_list)\n",
        "\n",
        "    # inference\n",
        "    predictions = model.predictAll(inference_rdd).map(lambda r: (r[1], r[2]))\n",
        "\n",
        "    # get top n movieId\n",
        "    topn_rows = predictions.sortBy(lambda r: r[1], ascending=False).take(n_recommendations)\n",
        "    topn_ids = [r[0] for r in topn_rows]\n",
        "\n",
        "    # return movie titles\n",
        "    return df_books.filter(books.book_id.isin(topn_ids)) \\\n",
        "                    .select('title') \\\n",
        "                    .rdd \\\n",
        "                    .map(lambda r: r[0]) \\\n",
        "                    .collect()"
      ],
      "metadata": {
        "execution": {
          "iopub.status.busy": "2023-12-03T00:01:39.598881Z",
          "iopub.execute_input": "2023-12-03T00:01:39.599348Z",
          "iopub.status.idle": "2023-12-03T00:01:39.612086Z",
          "shell.execute_reply.started": "2023-12-03T00:01:39.599295Z",
          "shell.execute_reply": "2023-12-03T00:01:39.610894Z"
        },
        "trusted": true,
        "id": "HLaSKK-y_i3a"
      },
      "execution_count": 33,
      "outputs": []
    },
    {
      "cell_type": "markdown",
      "source": [
        "Let's pretend I am a new user in this recommender system. I will input a handful of my all-time favorite books into the system. And then the system should output top N movie recommendations for me to watch"
      ],
      "metadata": {
        "id": "flKDkHw-_i3a"
      }
    },
    {
      "cell_type": "code",
      "source": [
        "# my favorite book\n",
        "my_favorite_books = ['The Shadow of the Wind']\n",
        "\n",
        "# get recommends\n",
        "recommends = make_recommendation(\n",
        "    best_model_params={'iterations': 10, 'rank': 30, 'lambda_': 0.1},\n",
        "    ratings_data=rating_data,\n",
        "    df_books=books,\n",
        "    fav_book_list=my_favorite_books,\n",
        "    n_recommendations=10,\n",
        "    spark_context=sc)\n",
        "\n",
        "print('Recommendations for {}:'.format(my_favorite_books[0]))\n",
        "for i, title in enumerate(recommends):\n",
        "    print('{0}: {1}'.format(i+1, title))"
      ],
      "metadata": {
        "execution": {
          "iopub.status.busy": "2023-12-03T00:03:36.501481Z",
          "iopub.execute_input": "2023-12-03T00:03:36.502667Z"
        },
        "trusted": true,
        "id": "5BeXZwik_i3a",
        "colab": {
          "base_uri": "https://localhost:8080/"
        },
        "outputId": "3c11b9f7-ac35-4887-d580-5461f822693e"
      },
      "execution_count": 34,
      "outputs": [
        {
          "output_type": "stream",
          "name": "stdout",
          "text": [
            "Recommendations for The Shadow of the Wind:\n",
            "1: Book of Mormon, Doctrine and Covenants, Pearl of Great Price\n",
            "2: Bakuman, Band 1: Traum und Realität\n",
            "3: Bumi Manusia\n",
            "4: Darth Vader and Son\n",
            "5: A Different Blue\n",
            "6: Red Notice: A True Story of High Finance, Murder, and One Man’s Fight for Justice\n",
            "7: Superman for All Seasons\n",
            "8: A Little History of the World\n",
            "9: Attack of the Deranged Mutant Killer Monster Snow Goons\n",
            "10: Economics in One Lesson: The Shortest & Surest Way to Understand Basic Economics\n"
          ]
        }
      ]
    }
  ]
}